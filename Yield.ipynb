{
 "cells": [
  {
   "cell_type": "code",
   "execution_count": 1,
   "metadata": {},
   "outputs": [],
   "source": [
    "# Define the ranges for iterating the yield data\n",
    "day0, day1, day2, day7, day15, day30, day60, day90, dayMax = list(range(0,1)), \\\n",
    "            list(range(1,2)), list(range(2,3)), list(range(3,8)), list(range(8,16)), list(range(16,31)), \\\n",
    "            list(range(31,61)), list(range(61,91)), list(range(91,151))\n",
    "\n",
    "occ_slot1, occ_slot2, occ_slot3, occ_slot4, occ_slot5, occ_slot6, occ_slot7, occ_slot8, occ_slot9, occ_slot10 = \\\n",
    "            list(range(0,11)), list(range(11,21)), list(range(21,31)), list(range(31,41)), list(range(41,51)), \\\n",
    "            list(range(51,61)), list(range(61,71)), list(range(71,81)), list(range(81,91)), list(range(91,101))"
   ]
  },
  {
   "cell_type": "code",
   "execution_count": 2,
   "metadata": {},
   "outputs": [],
   "source": [
    "# Expected check-in iterator function (column-wise)\n",
    "def get_time_slot(expected_checkin_slot):\n",
    "    if expected_checkin_slot in day0: return '0Day'\n",
    "    elif expected_checkin_slot in day1: return '1Day'\n",
    "    elif expected_checkin_slot in day2: return '2Day'\n",
    "    elif expected_checkin_slot in day7: return '7Day'\n",
    "    elif expected_checkin_slot in day15: return '15Day'\n",
    "    elif expected_checkin_slot in day30: return '30Day'\n",
    "    elif expected_checkin_slot in day60: return '60Day'\n",
    "    elif expected_checkin_slot in day90: return '90Day'\n",
    "    else: return 'dayMax'\n",
    "    \n",
    "# Ocupancy level iterator function (row-wise)\n",
    "def get_occupancy_slot(occupied_data):\n",
    "    if occupied_data in occ_slot1: return yield_data.index[0]\n",
    "    elif occupied_data in occ_slot2: return yield_data.index[1]\n",
    "    elif occupied_data in occ_slot3: return yield_data.index[2]\n",
    "    elif occupied_data in occ_slot4: return yield_data.index[3]\n",
    "    elif occupied_data in occ_slot5: return yield_data.index[4]\n",
    "    elif occupied_data in occ_slot6: return yield_data.index[5]\n",
    "    elif occupied_data in occ_slot7: return yield_data.index[6]\n",
    "    elif occupied_data in occ_slot8: return yield_data.index[7]\n",
    "    elif occupied_data in occ_slot9: return yield_data.index[8]\n",
    "    elif occupied_data in occ_slot10: return yield_data.index[9]\n",
    "    else: return yield_data.index[0]"
   ]
  },
  {
   "cell_type": "code",
   "execution_count": 3,
   "metadata": {},
   "outputs": [
    {
     "data": {
      "text/plain": [
       "'7Day'"
      ]
     },
     "execution_count": 3,
     "metadata": {},
     "output_type": "execute_result"
    }
   ],
   "source": [
    "get_time_slot(5)"
   ]
  },
  {
   "cell_type": "code",
   "execution_count": null,
   "metadata": {},
   "outputs": [],
   "source": []
  },
  {
   "cell_type": "code",
   "execution_count": null,
   "metadata": {},
   "outputs": [],
   "source": []
  }
 ],
 "metadata": {
  "kernelspec": {
   "display_name": "Python 3",
   "language": "python",
   "name": "python3"
  },
  "language_info": {
   "codemirror_mode": {
    "name": "ipython",
    "version": 3
   },
   "file_extension": ".py",
   "mimetype": "text/x-python",
   "name": "python",
   "nbconvert_exporter": "python",
   "pygments_lexer": "ipython3",
   "version": "3.11.1 (v3.11.1:a7a450f84a, Dec  6 2022, 15:24:06) [Clang 13.0.0 (clang-1300.0.29.30)]"
  },
  "orig_nbformat": 4,
  "vscode": {
   "interpreter": {
    "hash": "aee8b7b246df8f9039afb4144a1f6fd8d2ca17a180786b69acc140d282b71a49"
   }
  }
 },
 "nbformat": 4,
 "nbformat_minor": 2
}
